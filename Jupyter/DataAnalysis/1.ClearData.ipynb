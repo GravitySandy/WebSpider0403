{
 "cells": [
  {
   "cell_type": "code",
   "execution_count": null,
   "metadata": {},
   "outputs": [],
   "source": [
    "import pandas as pd\n",
    "import numpy as np"
   ]
  },
  {
   "cell_type": "code",
   "execution_count": null,
   "metadata": {},
   "outputs": [],
   "source": [
    "df = pd.read_csv(\"SourceData.csv\")\n",
    "df.head(3)"
   ]
  },
  {
   "cell_type": "code",
   "execution_count": null,
   "metadata": {},
   "outputs": [],
   "source": [
    "df.loc[:,\"ymd\"] = df[\"ymd\"].str.replace(\"年\",\"\").str.replace(\"月\",\"\").str.replace(\"日\",\"\").astype('object')\n",
    "df.dtypes"
   ]
  },
  {
   "cell_type": "code",
   "execution_count": null,
   "metadata": {},
   "outputs": [],
   "source": [
    "df.loc[:,\"highTemp\"] = df[\"highTemp\"].str.replace(\"℃\",\"\").astype('int32')\n",
    "df.loc[:,\"lowTemp\"] = df[\"lowTemp\"].str.replace(\"℃\",\"\").astype('int32')"
   ]
  },
  {
   "cell_type": "code",
   "execution_count": null,
   "metadata": {},
   "outputs": [],
   "source": [
    "a = df.loc[df[\"lowTemp\"] < -30,:]\n",
    "a.head()"
   ]
  },
  {
   "cell_type": "code",
   "execution_count": null,
   "metadata": {},
   "outputs": [],
   "source": [
    "df.isnull().head()"
   ]
  },
  {
   "cell_type": "code",
   "execution_count": null,
   "metadata": {},
   "outputs": [],
   "source": [
    "df.loc[:,\"Citys\"] = df[\"Citys\"].fillna(method = \"bfill\")\n",
    "df.head()"
   ]
  },
  {
   "cell_type": "code",
   "execution_count": null,
   "metadata": {},
   "outputs": [],
   "source": [
    "Dataframe = df.drop('Citys',axis = 1)\n",
    "Dataframe.head()"
   ]
  },
  {
   "cell_type": "code",
   "execution_count": null,
   "metadata": {},
   "outputs": [],
   "source": [
    "Dataframe.dtypes"
   ]
  },
  {
   "cell_type": "code",
   "execution_count": null,
   "metadata": {},
   "outputs": [],
   "source": [
    "windList = list(df.loc[:,\"wind\"])\n",
    "\n",
    "winds = []\n",
    "wind1 = []\n",
    "for a in windList[:]:\n",
    "        b = a.split('/')[0]\n",
    "        c = a.split('/')[1]\n",
    "        winds.append(b[:])\n",
    "        wind1.append(c[:])\n",
    "\n",
    "qq = []\n",
    "for a in winds[:]:\n",
    "        b = a.split('风')[1].split('-')[-1].split('～')[-1].split('≤')[-1].split('<')[-1].split('级')[0]\n",
    "        qq.append(b[:])\n",
    "data3 = df\n",
    "data4 = data3.drop('wind',axis = 1)\n",
    "data4['windPower'] = qq\n",
    "data4.head(3)"
   ]
  },
  {
   "cell_type": "code",
   "execution_count": null,
   "metadata": {},
   "outputs": [],
   "source": [
    "data4.to_csv('FinalData.csv', mode='x', index=False, encoding='utf-8')"
   ]
  },
  {
   "cell_type": "code",
   "execution_count": null,
   "metadata": {},
   "outputs": [],
   "source": []
  }
 ],
 "metadata": {
  "kernelspec": {
   "display_name": "Python 3",
   "language": "python",
   "name": "python3"
  },
  "language_info": {
   "codemirror_mode": {
    "name": "ipython",
    "version": 3
   },
   "file_extension": ".py",
   "mimetype": "text/x-python",
   "name": "python",
   "nbconvert_exporter": "python",
   "pygments_lexer": "ipython3",
   "version": "3.6.5"
  }
 },
 "nbformat": 4,
 "nbformat_minor": 2
}
