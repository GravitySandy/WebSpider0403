{
 "cells": [
  {
   "cell_type": "code",
   "execution_count": null,
   "metadata": {},
   "outputs": [],
   "source": [
    "import pandas as pd\n",
    "import numpy as np\n",
    "import matplotlib.pyplot as plt"
   ]
  },
  {
   "cell_type": "code",
   "execution_count": null,
   "metadata": {
    "scrolled": true
   },
   "outputs": [],
   "source": [
    "df = pd.read_csv(\"FinalData.csv\")\n",
    "df.head(3)"
   ]
  },
  {
   "cell_type": "code",
   "execution_count": null,
   "metadata": {},
   "outputs": [],
   "source": [
    "pic = df.loc[(df['ymd'] > 20110100) & (df['ymd'] < 20191232)]"
   ]
  },
  {
   "cell_type": "code",
   "execution_count": null,
   "metadata": {},
   "outputs": [],
   "source": [
    "shujuhigh = pic['highTemp']\n",
    "shujulow = pic['lowTemp']\n",
    "shujuymd = pic['ymd']\n",
    "lenymd = len(shujuymd)\n",
    "print(type(shujuhigh))\n",
    "print(type(shujulow))\n",
    "print(type(shujuymd))\n",
    "print(lenymd)"
   ]
  },
  {
   "cell_type": "code",
   "execution_count": null,
   "metadata": {},
   "outputs": [],
   "source": [
    "plt.rcParams['font.sans-serif']=['STSong']     #解决中文显示问题，目前只知道黑体可行\n",
    "plt.rcParams['axes.unicode_minus']=False       #解决负数坐标显示问题\n",
    "# plt.style.use('dark_background')\n",
    "# plt.style.use('classic')\n",
    "plt.style.use('seaborn-whitegrid')"
   ]
  },
  {
   "cell_type": "code",
   "execution_count": null,
   "metadata": {},
   "outputs": [],
   "source": [
    "plt.figure(figsize=(8, 6))\n",
    "index = np.arange(lenymd)\n",
    "y = list(shujuhigh)\n",
    "z = list(shujulow)\n",
    "bar_width = 0.4\n",
    "plt.bar(left = index, height = y, width = bar_width, color = 'r', label = 'HighTemp')\n",
    "plt.bar(left = index+bar_width, height = z, width = bar_width, color = 'b', label = 'LowTemp')\n",
    "plt.legend()\n",
    "plt.tight_layout()# 防止断点\n",
    "plt.show()"
   ]
  },
  {
   "cell_type": "code",
   "execution_count": null,
   "metadata": {},
   "outputs": [],
   "source": []
  }
 ],
 "metadata": {
  "kernelspec": {
   "display_name": "Python 3",
   "language": "python",
   "name": "python3"
  },
  "language_info": {
   "codemirror_mode": {
    "name": "ipython",
    "version": 3
   },
   "file_extension": ".py",
   "mimetype": "text/x-python",
   "name": "python",
   "nbconvert_exporter": "python",
   "pygments_lexer": "ipython3",
   "version": "3.6.5"
  }
 },
 "nbformat": 4,
 "nbformat_minor": 2
}
