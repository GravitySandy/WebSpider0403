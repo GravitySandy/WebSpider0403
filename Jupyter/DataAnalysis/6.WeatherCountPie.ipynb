{
 "cells": [
  {
   "cell_type": "code",
   "execution_count": null,
   "metadata": {},
   "outputs": [],
   "source": [
    "import pandas as pd\n",
    "import numpy as np\n",
    "import matplotlib.pyplot as plt"
   ]
  },
  {
   "cell_type": "code",
   "execution_count": null,
   "metadata": {
    "scrolled": true
   },
   "outputs": [],
   "source": [
    "df = pd.read_csv(\"FinalData.csv\")\n",
    "df.head(3)"
   ]
  },
  {
   "cell_type": "code",
   "execution_count": null,
   "metadata": {},
   "outputs": [],
   "source": [
    "a = dict(df['Weather'].value_counts())"
   ]
  },
  {
   "cell_type": "code",
   "execution_count": null,
   "metadata": {},
   "outputs": [],
   "source": [
    "b = list(a.keys())\n",
    "c = list(a.values())"
   ]
  },
  {
   "cell_type": "code",
   "execution_count": null,
   "metadata": {},
   "outputs": [],
   "source": [
    "dict2 = dict(zip(b[:5],c[:5]))\n",
    "dict2['其他'] = sum(c[5:])\n",
    "dict2"
   ]
  },
  {
   "cell_type": "code",
   "execution_count": null,
   "metadata": {},
   "outputs": [],
   "source": [
    "labels = list(dict2.keys())\n",
    "fracs = list(dict2.values())"
   ]
  },
  {
   "cell_type": "code",
   "execution_count": null,
   "metadata": {},
   "outputs": [],
   "source": [
    "colors = ['red','yellow','blue','pink','green','#008fd5','#003366','#e5ae37','#6d904f','#afecac']\n",
    "explode1 = [0.05,0,0,0,0,0.1]\n",
    "explode2 = [0,0,0,0,0.1,0.1]\n",
    "explode3 = [0.05,0.05,0.05,0.05,0.05,0.05]"
   ]
  },
  {
   "cell_type": "code",
   "execution_count": null,
   "metadata": {
    "scrolled": false
   },
   "outputs": [],
   "source": [
    "# plt.style.use('dark_background')\n",
    "# plt.style.use('classic')\n",
    "plt.style.use('seaborn-whitegrid')\n",
    "\n",
    "plt.axes(aspect = 1)#初始化画布比例\n",
    "plt.rcParams['font.sans-serif']=['STSong']     #解决中文显示问题，目前只知道黑体可行\n",
    "plt.rcParams['axes.unicode_minus']=False       #解决负数坐标显示问题\n",
    "\n",
    "plt.pie(x = fracs, labels = labels, explode = explode1, autopct = '%.0f%%')\n",
    "plt.show()"
   ]
  },
  {
   "cell_type": "code",
   "execution_count": null,
   "metadata": {},
   "outputs": [],
   "source": [
    "plt.figure(figsize=(5,5))\n",
    "plt.rcParams['font.sans-serif']=['STSong']\n",
    "plt.pie(x = fracs, labels = labels,colors = colors, explode = explode3, autopct = '%.0f%%', shadow = True, wedgeprops = {'edgecolor':'black'})\n",
    "plt.legend(fontsize = 8)\n",
    "plt.tight_layout()\n",
    "plt.show()"
   ]
  },
  {
   "cell_type": "code",
   "execution_count": null,
   "metadata": {},
   "outputs": [],
   "source": [
    "weatherPercent = dict(df['Weather'].value_counts().head())\n",
    "labels2 = list(weatherPercent.keys())\n",
    "fracs2 = list(weatherPercent.values())"
   ]
  },
  {
   "cell_type": "code",
   "execution_count": null,
   "metadata": {},
   "outputs": [],
   "source": [
    "plt.figure(figsize=(5,5))\n",
    "plt.rcParams['font.sans-serif']=['STSong']\n",
    "dogge = [0.05,0,0,0,0.1]\n",
    "plt.pie(x = fracs2, labels = labels2, colors = colors, explode = dogge, autopct = '%.0f%%', shadow = True, wedgeprops = {'edgecolor':'black'})\n",
    "plt.legend(fontsize = 8)\n",
    "plt.tight_layout()\n",
    "plt.show()"
   ]
  },
  {
   "cell_type": "code",
   "execution_count": null,
   "metadata": {},
   "outputs": [],
   "source": []
  }
 ],
 "metadata": {
  "kernelspec": {
   "display_name": "Python 3",
   "language": "python",
   "name": "python3"
  },
  "language_info": {
   "codemirror_mode": {
    "name": "ipython",
    "version": 3
   },
   "file_extension": ".py",
   "mimetype": "text/x-python",
   "name": "python",
   "nbconvert_exporter": "python",
   "pygments_lexer": "ipython3",
   "version": "3.6.5"
  }
 },
 "nbformat": 4,
 "nbformat_minor": 2
}
