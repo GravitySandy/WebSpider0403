{
 "cells": [
  {
   "cell_type": "code",
   "execution_count": null,
   "metadata": {},
   "outputs": [],
   "source": [
    "import pandas as pd\n",
    "import numpy as np\n",
    "import matplotlib.pyplot as plt"
   ]
  },
  {
   "cell_type": "code",
   "execution_count": null,
   "metadata": {},
   "outputs": [],
   "source": [
    "df = pd.read_csv(\"FinalData.csv\")\n",
    "df.head(3)"
   ]
  },
  {
   "cell_type": "code",
   "execution_count": null,
   "metadata": {},
   "outputs": [],
   "source": [
    "df.dtypes"
   ]
  },
  {
   "cell_type": "code",
   "execution_count": null,
   "metadata": {},
   "outputs": [],
   "source": [
    "pic = df.loc[(df['ymd'] > 20110100) & (df['ymd'] < 20191232)]"
   ]
  },
  {
   "cell_type": "code",
   "execution_count": null,
   "metadata": {},
   "outputs": [],
   "source": [
    "plt.rcParams['font.sans-serif']=['STSong']     #解决中文显示问题，目前只知道黑体可行\n",
    "plt.rcParams['axes.unicode_minus']=False       #解决负数坐标显示问题\n",
    "# plt.style.use('dark_background')\n",
    "# plt.style.use('classic')\n",
    "plt.style.use('seaborn-whitegrid')"
   ]
  },
  {
   "cell_type": "code",
   "execution_count": null,
   "metadata": {},
   "outputs": [],
   "source": [
    "shujuhigh1 = pic['highTemp']\n",
    "shujulow1 = pic['lowTemp']\n",
    "shujuymd1 = pic['ymd']\n",
    "lenymd1 = len(shujuymd)\n",
    "print(type(shujuhigh1))\n",
    "print(type(shujulow1))\n",
    "print(type(shujuymd1))\n",
    "print(lenymd1)"
   ]
  },
  {
   "cell_type": "code",
   "execution_count": null,
   "metadata": {},
   "outputs": [],
   "source": [
    "plt.figure(figsize=(10, 8))\n",
    "plt.plot(shujuhigh)\n",
    "plt.plot(shujulow)\n",
    "plt.legend()\n",
    "plt.tight_layout()# 防止断点\n",
    "plt.show()"
   ]
  },
  {
   "cell_type": "code",
   "execution_count": null,
   "metadata": {},
   "outputs": [],
   "source": [
    "pic2 = df.loc[(df['ymd'] > 20140100) & (df['ymd'] < 20150101)]\n",
    "shujuhigh = pic2['highTemp']\n",
    "shujulow = pic2['lowTemp']\n",
    "shujuymd = pic2['ymd']\n",
    "lenymd = len(shujuymd)\n",
    "\n",
    "plt.rcParams['font.sans-serif']=['STSong']     #解决中文显示问题，目前只知道黑体可行\n",
    "plt.rcParams['axes.unicode_minus']=False       #解决负数坐标显示问题\n",
    "# plt.style.use('dark_background')\n",
    "# plt.style.use('classic')\n",
    "\n",
    "plt.style.use('seaborn-whitegrid')\n",
    "plt.figure(figsize=(8, 6))\n",
    "plt.plot(shujuhigh)\n",
    "plt.plot(shujulow)\n",
    "plt.legend()\n",
    "plt.tight_layout()# 防止断点\n",
    "plt.show()"
   ]
  },
  {
   "cell_type": "code",
   "execution_count": null,
   "metadata": {},
   "outputs": [],
   "source": []
  }
 ],
 "metadata": {
  "kernelspec": {
   "display_name": "Python 3",
   "language": "python",
   "name": "python3"
  },
  "language_info": {
   "codemirror_mode": {
    "name": "ipython",
    "version": 3
   },
   "file_extension": ".py",
   "mimetype": "text/x-python",
   "name": "python",
   "nbconvert_exporter": "python",
   "pygments_lexer": "ipython3",
   "version": "3.6.5"
  }
 },
 "nbformat": 4,
 "nbformat_minor": 2
}
